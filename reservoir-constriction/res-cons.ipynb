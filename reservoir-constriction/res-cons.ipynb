{
 "metadata": {
  "language_info": {
   "codemirror_mode": {
    "name": "ipython",
    "version": 3
   },
   "file_extension": ".py",
   "mimetype": "text/x-python",
   "name": "python",
   "nbconvert_exporter": "python",
   "pygments_lexer": "ipython3",
   "version": 3
  },
  "orig_nbformat": 2
 },
 "nbformat": 4,
 "nbformat_minor": 2,
 "cells": [
  {
   "cell_type": "code",
   "execution_count": null,
   "metadata": {},
   "outputs": [],
   "source": [
    "\n",
    "#import functions we need\n",
    "%pylab inline\n",
    "from scipy.integrate import odeint\n",
    "\n",
    "#Define parameters\n",
    "L=1000. #m\n",
    "D_H = 1. #m\n",
    "f = 0.1\n",
    "A_R = 5000. #m^2\n",
    "C_f = 1 + f*L/D_H \n",
    "A_c = pi*D_H/4. # m^2\n",
    "R_i = 1.# m^3/s\n",
    "R_f = 2.# m^3/s\n",
    "\n",
    "#Set up analytical solution\n",
    "\n",
    "#Define the derivative as a function\n",
    "\n",
    "#Set up arrays for variables (time)\n",
    "\n",
    "#Solve using odeint\n",
    "\n",
    "#Plot the solution\n"
   ]
  }
 ]
}