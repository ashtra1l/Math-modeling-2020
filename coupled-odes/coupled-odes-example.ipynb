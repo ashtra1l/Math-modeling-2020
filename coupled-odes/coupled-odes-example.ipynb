{
 "metadata": {
  "language_info": {
   "codemirror_mode": {
    "name": "ipython",
    "version": 3
   },
   "file_extension": ".py",
   "mimetype": "text/x-python",
   "name": "python",
   "nbconvert_exporter": "python",
   "pygments_lexer": "ipython3",
   "version": "3.7.6-final"
  },
  "orig_nbformat": 2,
  "kernelspec": {
   "name": "Python 3.7.6 64-bit ('base': conda)",
   "display_name": "Python 3.7.6 64-bit ('base': conda)",
   "metadata": {
    "interpreter": {
     "hash": "dd98ccf96c3a56fec4b4bdd397410c9d15351d8e53ee0c0a274d38b71d2ef059"
    }
   }
  }
 },
 "nbformat": 4,
 "nbformat_minor": 2,
 "cells": [
  {
   "cell_type": "code",
   "execution_count": null,
   "metadata": {},
   "outputs": [],
   "source": [
    "%pylab inline\n",
    "from scipy.integrate import odeint\n"
   ]
  },
  {
   "cell_type": "code",
   "execution_count": null,
   "metadata": {},
   "outputs": [],
   "source": [
    "k=1.\n",
    "m=0.5\n",
    "def dy_dt(y,t):\n",
    "    x = y[0]\n",
    "    V = y[1]\n",
    "    dx_dt = y[1]\n",
    "    dV_dt = -k/m*x\n",
    "    return [dx_dt, dV_dt]"
   ]
  },
  {
   "cell_type": "code",
   "execution_count": null,
   "metadata": {},
   "outputs": [],
   "source": [
    "x0=1.\n",
    "V0=0.\n",
    "t = linspace(0,10,500)\n",
    "y_sol = odeint(dy_dt, [x0, V0], t)\n"
   ]
  },
  {
   "cell_type": "code",
   "execution_count": null,
   "metadata": {},
   "outputs": [],
   "source": [
    "print(y_sol.shape)"
   ]
  },
  {
   "cell_type": "code",
   "execution_count": null,
   "metadata": {},
   "outputs": [],
   "source": [
    "x = y_sol[:,0] # all rows of 0th (first) column\n",
    "V = y_sol[:,1] # all rows of 2nd column\n",
    "plot(t, x)\n",
    "plot(t, V)"
   ]
  },
  {
   "cell_type": "code",
   "execution_count": null,
   "metadata": {},
   "outputs": [],
   "source": []
  }
 ]
}