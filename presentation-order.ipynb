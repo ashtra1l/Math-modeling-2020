{
 "cells": [
  {
   "cell_type": "code",
   "execution_count": 3,
   "metadata": {},
   "outputs": [
    {
     "output_type": "stream",
     "name": "stdout",
     "text": [
      "Using matplotlib backend: Qt5Agg\nPopulating the interactive namespace from numpy and matplotlib\n"
     ]
    }
   ],
   "source": [
    "%pylab\n",
    "from numpy.random import shuffle\n",
    "presentations = ['Chun',\n",
    "                 'Edwards',\n",
    "                 'Hokett',\n",
    "                 'Hughes',\n",
    "                 'Johnson',\n",
    "                 'Niznik',\n",
    "                 'Oberg',\n",
    "                 'Rhodes',\n",
    "                 'Richins',\n",
    "                 'Sampong',\n",
    "                 'Sezibera',\n",
    "                 'Strickland',\n",
    "                 'Swick']\n",
    "                 "
   ]
  },
  {
   "cell_type": "code",
   "execution_count": 4,
   "metadata": {},
   "outputs": [
    {
     "output_type": "stream",
     "name": "stdout",
     "text": [
      "Monday, December 7\n",
      "Niznik\n",
      "Strickland\n",
      "Chun\n",
      "Hokett\n",
      "\n",
      "\n",
      "Wednesday, December 9\n",
      "Sampong\n",
      "Johnson\n",
      "Sezibera\n",
      "Oberg\n",
      "\n",
      "\n",
      "Monday, December 14\n",
      "Hughes\n",
      "Richins\n",
      "Edwards\n",
      "Swick\n",
      "Rhodes\n"
     ]
    }
   ],
   "source": [
    "shuffle(presentations)\n",
    "for number, name in enumerate(presentations):\n",
    "    if number==0:\n",
    "        print('Monday, December 7')\n",
    "    if number==len(presentations) - 5:\n",
    "        print('\\n')\n",
    "        print('Monday, December 14')\n",
    "    if number==len(presentations) - 9:\n",
    "        print('\\n')\n",
    "        print('Wednesday, December 9')\n",
    "    print(name)\n",
    "    pause(2)"
   ]
  },
  {
   "cell_type": "code",
   "execution_count": null,
   "metadata": {},
   "outputs": [],
   "source": []
  }
 ],
 "metadata": {
  "kernelspec": {
   "display_name": "Python 3",
   "language": "python",
   "name": "python3"
  },
  "language_info": {
   "codemirror_mode": {
    "name": "ipython",
    "version": 3
   },
   "file_extension": ".py",
   "mimetype": "text/x-python",
   "name": "python",
   "nbconvert_exporter": "python",
   "pygments_lexer": "ipython3",
   "version": "3.7.6-final"
  }
 },
 "nbformat": 4,
 "nbformat_minor": 1
}